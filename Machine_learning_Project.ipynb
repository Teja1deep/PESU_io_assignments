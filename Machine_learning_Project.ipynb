{
  "nbformat": 4,
  "nbformat_minor": 0,
  "metadata": {
    "colab": {
      "provenance": [],
      "authorship_tag": "ABX9TyNIzX9c+MLTuanU7r7zOSsI",
      "include_colab_link": true
    },
    "kernelspec": {
      "name": "python3",
      "display_name": "Python 3"
    },
    "language_info": {
      "name": "python"
    }
  },
  "cells": [
    {
      "cell_type": "markdown",
      "metadata": {
        "id": "view-in-github",
        "colab_type": "text"
      },
      "source": [
        "<a href=\"https://colab.research.google.com/github/Teja1deep/PESU_io_assignments/blob/main/Machine_learning_Project.ipynb\" target=\"_parent\"><img src=\"https://colab.research.google.com/assets/colab-badge.svg\" alt=\"Open In Colab\"/></a>"
      ]
    },
    {
      "cell_type": "code",
      "execution_count": 2,
      "metadata": {
        "id": "jYHlQvfsHDyB"
      },
      "outputs": [],
      "source": [
        "import numpy as np\n",
        "import pandas as pd"
      ]
    },
    {
      "cell_type": "code",
      "source": [
        "dataset = pd.read_csv('/content/PESUIODATABASE.csv')\n",
        "X = dataset.iloc[:, :-1].values\n",
        "y = dataset.iloc[:, -1].values"
      ],
      "metadata": {
        "id": "QopXWOZPHuKq"
      },
      "execution_count": 3,
      "outputs": []
    },
    {
      "cell_type": "code",
      "source": [
        "from sklearn.preprocessing import LabelEncoder\n",
        "le = LabelEncoder()\n",
        "y = le.fit_transform(y)"
      ],
      "metadata": {
        "id": "ioAo5_CTH06i"
      },
      "execution_count": 4,
      "outputs": []
    },
    {
      "cell_type": "code",
      "source": [
        "y"
      ],
      "metadata": {
        "colab": {
          "base_uri": "https://localhost:8080/"
        },
        "id": "kPE8vK7SZJ9x",
        "outputId": "f3ff9f03-205f-49ad-8207-f88494f2c704"
      },
      "execution_count": 5,
      "outputs": [
        {
          "output_type": "execute_result",
          "data": {
            "text/plain": [
              "array([0, 1, 1, 1, 1, 1, 1, 0, 1, 0, 0, 1, 0, 0, 0, 0, 1, 0, 1, 1, 1, 1,\n",
              "       1, 0, 0, 0, 1, 1, 1, 0, 0, 0, 1, 0, 1, 1, 0, 1, 0, 0, 0, 0, 0, 1,\n",
              "       0, 0, 1, 1, 1, 1, 1, 0, 0, 0, 1, 1, 1, 0, 0, 1, 1, 0, 0, 0, 0, 1,\n",
              "       0, 0, 0, 0, 1, 1, 1, 0, 0, 0, 1, 0, 0, 0, 0, 0, 0, 1, 0, 1, 1, 1,\n",
              "       1, 1, 1, 0, 0, 0, 0, 0, 1, 1, 0, 0, 0, 0, 0, 1, 1, 1, 0, 1, 0, 0,\n",
              "       0, 0, 0, 0, 0, 0, 0, 0, 0, 1, 0, 0, 0, 0, 1, 0, 1, 1, 1, 0, 1, 0,\n",
              "       1, 1, 1, 1, 0, 0, 1, 0, 0, 0, 0, 0, 0, 0, 0, 0, 0, 0, 1, 1, 0, 0,\n",
              "       0, 1, 1, 0, 0, 0, 0, 0, 0, 0, 0, 0, 0, 0, 0, 0, 0, 0, 1, 1, 1, 1,\n",
              "       1, 0, 1, 1, 1, 1, 1, 1, 1, 0, 1, 1, 0, 0, 0, 0, 0, 0, 0, 0, 0, 0,\n",
              "       0, 1])"
            ]
          },
          "metadata": {},
          "execution_count": 5
        }
      ]
    },
    {
      "cell_type": "code",
      "source": [
        "from sklearn.model_selection import train_test_split\n",
        "X_train, X_test, y_train, y_test = train_test_split(X, y, test_size = 0.25, random_state = 0)"
      ],
      "metadata": {
        "id": "_56XblHOIcTd"
      },
      "execution_count": 6,
      "outputs": []
    },
    {
      "cell_type": "code",
      "source": [
        "from sklearn.preprocessing import StandardScaler\n",
        "sc = StandardScaler()\n",
        "X_train = sc.fit_transform(X_train)\n",
        "X_test = sc.transform(X_test)"
      ],
      "metadata": {
        "id": "Z3ScX6KAIiTc"
      },
      "execution_count": 7,
      "outputs": []
    },
    {
      "cell_type": "code",
      "source": [
        "X_train"
      ],
      "metadata": {
        "colab": {
          "base_uri": "https://localhost:8080/"
        },
        "id": "a27B7Opz836a",
        "outputId": "4838545c-90b3-4da4-8453-c3c08c7e2df2"
      },
      "execution_count": 8,
      "outputs": [
        {
          "output_type": "execute_result",
          "data": {
            "text/plain": [
              "array([[-0.67932793,  0.5824378 ],\n",
              "       [ 0.18541728,  0.60140209],\n",
              "       [ 1.72307172,  1.99496182],\n",
              "       [-0.31296075,  1.21426495],\n",
              "       [ 0.75400333, -0.82755765],\n",
              "       [-1.05887971, -0.7324201 ],\n",
              "       [-1.03069762, -0.6688897 ],\n",
              "       [ 1.03681308, -0.59271645],\n",
              "       [-0.97054287, -0.66288434],\n",
              "       [-0.84001529,  2.18049586],\n",
              "       [ 0.3342385 ,  0.66524856],\n",
              "       [-0.32911189,  0.64533605],\n",
              "       [ 1.63209795,  1.5865973 ],\n",
              "       [-1.07783258, -0.38821812],\n",
              "       [ 0.85453593, -0.62874861],\n",
              "       [-0.39206837, -0.63412183],\n",
              "       [-0.85863854,  0.25720011],\n",
              "       [ 1.11740397, -0.56806286],\n",
              "       [-0.88533736, -0.82439694],\n",
              "       [-0.48155887,  2.20799409],\n",
              "       [ 0.51420834, -0.84178088],\n",
              "       [-0.42255777,  2.21557981],\n",
              "       [ 0.46822704, -0.81048979],\n",
              "       [-0.24670811, -0.82123622],\n",
              "       [ 0.63204574, -0.56079321],\n",
              "       [-0.43755525,  1.35649717],\n",
              "       [-0.10629208, -0.56490215],\n",
              "       [-1.09266526, -0.83988445],\n",
              "       [-1.0455303 ,  1.17380778],\n",
              "       [ 0.56084888, -0.82502908],\n",
              "       [ 1.81552875, -0.10090902],\n",
              "       [-0.92653925, -0.09743223],\n",
              "       [ 0.49113529,  1.97220467],\n",
              "       [ 2.06933238, -0.55700035],\n",
              "       [-0.12442091, -0.53013427],\n",
              "       [-0.78019015, -0.84020052],\n",
              "       [-1.11145332,  0.91368085],\n",
              "       [-0.81084435,  2.11380475],\n",
              "       [ 0.44548359, -0.55952893],\n",
              "       [ 2.13443136, -0.70934687],\n",
              "       [-0.94928269,  0.1838715 ],\n",
              "       [-1.10156487, -0.73273617],\n",
              "       [ 2.0370301 , -0.67047006],\n",
              "       [-0.65510122, -0.57596465],\n",
              "       [ 2.10179946, -0.79689871],\n",
              "       [ 1.54260745,  1.58059194],\n",
              "       [ 1.45460022,  0.91115227],\n",
              "       [ 0.22711359,  0.25372332],\n",
              "       [-0.37657646, -0.84083266],\n",
              "       [-0.05091674, -0.66952185],\n",
              "       [ 0.98390986, -0.81238622],\n",
              "       [ 1.9411121 , -0.63538611],\n",
              "       [-0.89390736, -0.34712881],\n",
              "       [-1.11227736, -0.83830409],\n",
              "       [-0.36091974, -0.65719506],\n",
              "       [-0.08799844, -0.60409502],\n",
              "       [-0.34509822, -0.60030217],\n",
              "       [-0.75892997, -0.8414648 ],\n",
              "       [ 1.2271658 , -0.83609159],\n",
              "       [-0.96362095, -0.81839158],\n",
              "       [-0.70289541, -0.81554693],\n",
              "       [-0.90231254, -0.09395545],\n",
              "       [-0.91055292,  0.60140209],\n",
              "       [-0.49589713,  1.27747927],\n",
              "       [-1.09513737, -0.69196293],\n",
              "       [ 1.0635119 , -0.81112193],\n",
              "       [-1.0629999 , -0.687854  ],\n",
              "       [ 1.78454493,  1.57711515],\n",
              "       [ 0.42290496,  1.54898478],\n",
              "       [-1.07437162, -0.00229468],\n",
              "       [-1.09002834, -0.73273617],\n",
              "       [-0.59165031, -0.59935395],\n",
              "       [-0.19528816,  1.29675964],\n",
              "       [-0.87660256, -0.65687898],\n",
              "       [-0.26351848, -0.67047006],\n",
              "       [-0.6175251 ,  0.23412688],\n",
              "       [-1.11079409,  0.5378717 ],\n",
              "       [ 0.02522434, -0.84209695],\n",
              "       [ 1.14459722, -0.66383256],\n",
              "       [ 2.16722806, -0.82028801],\n",
              "       [-1.10782756,  1.01861662],\n",
              "       [-0.71443194, -0.76718798],\n",
              "       [-0.51007057, -0.6688897 ],\n",
              "       [ 0.12410887, -0.63538611],\n",
              "       [ 0.90579108,  1.23607389],\n",
              "       [ 1.33956455, -0.55542   ],\n",
              "       [ 0.93166586,  1.98547967],\n",
              "       [-0.40739547, -0.82060408],\n",
              "       [ 2.20018957,  2.12044225],\n",
              "       [-1.09958718,  0.28501441],\n",
              "       [ 0.08406064,  2.22664231],\n",
              "       [-0.22973293, -0.59271645],\n",
              "       [-1.00268034, -0.16665192],\n",
              "       [-0.83045645, -0.69733615],\n",
              "       [-0.74805268,  0.27900905],\n",
              "       [-1.11194774, -0.09838045],\n",
              "       [ 0.10400235, -0.63032897],\n",
              "       [ 1.09037553, -0.79468621],\n",
              "       [-0.95653422, -0.73273617],\n",
              "       [-0.17781856,  2.27942627],\n",
              "       [ 0.3561579 ,  1.93806893],\n",
              "       [ 1.39675277,  0.94275943],\n",
              "       [-1.08426008, -0.76718798],\n",
              "       [-0.98389228, -0.63728254],\n",
              "       [ 0.37824211,  0.95129337],\n",
              "       [-0.86770296, -0.63380576],\n",
              "       [ 0.95770546, -0.81491479],\n",
              "       [ 0.26946913,  0.28564656],\n",
              "       [-1.00861341, -0.44195029],\n",
              "       [-1.04075088,  0.19398579],\n",
              "       [-0.01317581, -0.81112193],\n",
              "       [ 0.80394001,  1.93870108],\n",
              "       [-1.02542378, -0.73937367],\n",
              "       [ 1.19947813, -0.82471301],\n",
              "       [ 0.24820896,  0.19082507],\n",
              "       [ 1.48377115,  1.99496182],\n",
              "       [-1.01998513,  1.24365961],\n",
              "       [ 0.58441636, -0.75075225],\n",
              "       [ 1.28303556, -0.82439694],\n",
              "       [ 0.70472587, -0.69796829],\n",
              "       [-1.03580666, -0.687854  ],\n",
              "       [-0.28016404, -0.6622522 ],\n",
              "       [-0.53792305, -0.5942968 ],\n",
              "       [-0.57846571, -0.56427   ],\n",
              "       [ 0.00594186, -0.83798802],\n",
              "       [ 0.72928219, -0.66383256],\n",
              "       [ 2.00489262, -0.76813619],\n",
              "       [-0.66729698,  1.00945054],\n",
              "       [-0.60467011, -0.8414648 ],\n",
              "       [-1.05459472, -0.84209695],\n",
              "       [ 1.17195527, -0.81080586],\n",
              "       [-0.55160208, -0.8304023 ],\n",
              "       [ 1.84667738, -0.59334859],\n",
              "       [ 1.42559409,  1.23607389],\n",
              "       [ 1.90946905, -0.76813619],\n",
              "       [-0.97729998, -0.62843254],\n",
              "       [-0.8207328 , -0.76750405],\n",
              "       [ 0.53744621, -0.8136505 ],\n",
              "       [-0.45238793,  0.44273415],\n",
              "       [-0.69119407,  0.9298005 ],\n",
              "       [-0.4670558 ,  0.9576148 ],\n",
              "       [-0.99658246, -0.6688897 ],\n",
              "       [-1.07074586,  0.62668782],\n",
              "       [-1.10337775, -0.66983792],\n",
              "       [-0.21259295,  2.27942627],\n",
              "       [-0.72580366, -0.60030217],\n",
              "       [ 1.97291996, -0.60030217],\n",
              "       [ 0.04467164, -0.56142536],\n",
              "       [-0.91862849,  2.181128  ],\n",
              "       [ 1.36807625,  1.97315288]])"
            ]
          },
          "metadata": {},
          "execution_count": 8
        }
      ]
    },
    {
      "cell_type": "code",
      "source": [
        "X_test"
      ],
      "metadata": {
        "colab": {
          "base_uri": "https://localhost:8080/"
        },
        "id": "Oe6Kt9Iw_rtS",
        "outputId": "d91c733d-61ce-4dcd-8fe6-b7bbd15eca55"
      },
      "execution_count": null,
      "outputs": [
        {
          "output_type": "execute_result",
          "data": {
            "text/plain": [
              "array([[-1.08112873, -0.44858779],\n",
              "       [ 1.31121765, -0.81744336],\n",
              "       [-0.14238493,  0.95129337],\n",
              "       [-0.2966448 , -0.811438  ],\n",
              "       [ 1.5131069 , -0.56521822],\n",
              "       [ 1.66225773,  1.22722388],\n",
              "       [-1.10898121,  0.25309118],\n",
              "       [ 0.68033435, -0.82439694],\n",
              "       [-1.09744468, -0.69417543],\n",
              "       [ 0.82915557, -0.55510393],\n",
              "       [-0.79057302, -0.76118261],\n",
              "       [ 0.20618303, -0.62811647],\n",
              "       [ 1.60210297,  0.92885228],\n",
              "       [ 0.8800811 , -0.55605214],\n",
              "       [-0.5651163 , -0.82376479],\n",
              "       [-1.10650909, -0.82502908],\n",
              "       [-1.01438167, -0.73210403],\n",
              "       [ 0.3124839 ,  0.95255765],\n",
              "       [-0.99031977,  0.89060762],\n",
              "       [-0.64274065, -0.57217179],\n",
              "       [ 1.69258232,  1.99432968],\n",
              "       [ 0.65610764, -0.60030217],\n",
              "       [-0.93428521, -0.7324201 ],\n",
              "       [ 1.01027907, -0.55510393],\n",
              "       [-0.80079109,  0.31124836],\n",
              "       [ 0.16481634, -0.69512365],\n",
              "       [ 1.57227281,  1.93490822],\n",
              "       [ 1.75372592, -0.81775943],\n",
              "       [ 0.1443802 , -0.82439694],\n",
              "       [-0.94186635, -0.76718798],\n",
              "       [-1.08722661,  0.25372332],\n",
              "       [-0.84940932,  0.26383762],\n",
              "       [ 0.77888927,  1.65170805],\n",
              "       [-0.06954   , -0.60061824],\n",
              "       [-1.06695528, -0.45111637],\n",
              "       [ 1.87799081, -0.59556109],\n",
              "       [ 0.29089411, -0.7646594 ],\n",
              "       [-1.10997005,  0.28122155],\n",
              "       [-0.52407922,  1.39442576],\n",
              "       [-0.16018415, -0.53677177],\n",
              "       [ 0.40049113,  1.5865973 ],\n",
              "       [-0.73701057, -0.6344379 ],\n",
              "       [-1.05014491,  1.01419162],\n",
              "       [-0.03212868, -0.53993249],\n",
              "       [ 1.25501828, -0.83293087],\n",
              "       [-0.76964246, -0.81870765],\n",
              "       [-1.10502583,  1.22722388],\n",
              "       [-0.63021528, -0.76718798],\n",
              "       [ 0.06428373, -0.5364557 ],\n",
              "       [ 0.60814865, -0.55858071]])"
            ]
          },
          "metadata": {},
          "execution_count": 7
        }
      ]
    },
    {
      "cell_type": "code",
      "source": [
        "from sklearn.linear_model import LogisticRegression\n",
        "classifier = LogisticRegression(random_state = 0)\n",
        "classifier.fit(X_train, y_train)"
      ],
      "metadata": {
        "colab": {
          "base_uri": "https://localhost:8080/",
          "height": 74
        },
        "id": "MD4Q8KttIlkl",
        "outputId": "37c991c8-94f5-43b9-e527-b273ecb14b74"
      },
      "execution_count": 9,
      "outputs": [
        {
          "output_type": "execute_result",
          "data": {
            "text/plain": [
              "LogisticRegression(random_state=0)"
            ],
            "text/html": [
              "<style>#sk-container-id-1 {color: black;background-color: white;}#sk-container-id-1 pre{padding: 0;}#sk-container-id-1 div.sk-toggleable {background-color: white;}#sk-container-id-1 label.sk-toggleable__label {cursor: pointer;display: block;width: 100%;margin-bottom: 0;padding: 0.3em;box-sizing: border-box;text-align: center;}#sk-container-id-1 label.sk-toggleable__label-arrow:before {content: \"▸\";float: left;margin-right: 0.25em;color: #696969;}#sk-container-id-1 label.sk-toggleable__label-arrow:hover:before {color: black;}#sk-container-id-1 div.sk-estimator:hover label.sk-toggleable__label-arrow:before {color: black;}#sk-container-id-1 div.sk-toggleable__content {max-height: 0;max-width: 0;overflow: hidden;text-align: left;background-color: #f0f8ff;}#sk-container-id-1 div.sk-toggleable__content pre {margin: 0.2em;color: black;border-radius: 0.25em;background-color: #f0f8ff;}#sk-container-id-1 input.sk-toggleable__control:checked~div.sk-toggleable__content {max-height: 200px;max-width: 100%;overflow: auto;}#sk-container-id-1 input.sk-toggleable__control:checked~label.sk-toggleable__label-arrow:before {content: \"▾\";}#sk-container-id-1 div.sk-estimator input.sk-toggleable__control:checked~label.sk-toggleable__label {background-color: #d4ebff;}#sk-container-id-1 div.sk-label input.sk-toggleable__control:checked~label.sk-toggleable__label {background-color: #d4ebff;}#sk-container-id-1 input.sk-hidden--visually {border: 0;clip: rect(1px 1px 1px 1px);clip: rect(1px, 1px, 1px, 1px);height: 1px;margin: -1px;overflow: hidden;padding: 0;position: absolute;width: 1px;}#sk-container-id-1 div.sk-estimator {font-family: monospace;background-color: #f0f8ff;border: 1px dotted black;border-radius: 0.25em;box-sizing: border-box;margin-bottom: 0.5em;}#sk-container-id-1 div.sk-estimator:hover {background-color: #d4ebff;}#sk-container-id-1 div.sk-parallel-item::after {content: \"\";width: 100%;border-bottom: 1px solid gray;flex-grow: 1;}#sk-container-id-1 div.sk-label:hover label.sk-toggleable__label {background-color: #d4ebff;}#sk-container-id-1 div.sk-serial::before {content: \"\";position: absolute;border-left: 1px solid gray;box-sizing: border-box;top: 0;bottom: 0;left: 50%;z-index: 0;}#sk-container-id-1 div.sk-serial {display: flex;flex-direction: column;align-items: center;background-color: white;padding-right: 0.2em;padding-left: 0.2em;position: relative;}#sk-container-id-1 div.sk-item {position: relative;z-index: 1;}#sk-container-id-1 div.sk-parallel {display: flex;align-items: stretch;justify-content: center;background-color: white;position: relative;}#sk-container-id-1 div.sk-item::before, #sk-container-id-1 div.sk-parallel-item::before {content: \"\";position: absolute;border-left: 1px solid gray;box-sizing: border-box;top: 0;bottom: 0;left: 50%;z-index: -1;}#sk-container-id-1 div.sk-parallel-item {display: flex;flex-direction: column;z-index: 1;position: relative;background-color: white;}#sk-container-id-1 div.sk-parallel-item:first-child::after {align-self: flex-end;width: 50%;}#sk-container-id-1 div.sk-parallel-item:last-child::after {align-self: flex-start;width: 50%;}#sk-container-id-1 div.sk-parallel-item:only-child::after {width: 0;}#sk-container-id-1 div.sk-dashed-wrapped {border: 1px dashed gray;margin: 0 0.4em 0.5em 0.4em;box-sizing: border-box;padding-bottom: 0.4em;background-color: white;}#sk-container-id-1 div.sk-label label {font-family: monospace;font-weight: bold;display: inline-block;line-height: 1.2em;}#sk-container-id-1 div.sk-label-container {text-align: center;}#sk-container-id-1 div.sk-container {/* jupyter's `normalize.less` sets `[hidden] { display: none; }` but bootstrap.min.css set `[hidden] { display: none !important; }` so we also need the `!important` here to be able to override the default hidden behavior on the sphinx rendered scikit-learn.org. See: https://github.com/scikit-learn/scikit-learn/issues/21755 */display: inline-block !important;position: relative;}#sk-container-id-1 div.sk-text-repr-fallback {display: none;}</style><div id=\"sk-container-id-1\" class=\"sk-top-container\"><div class=\"sk-text-repr-fallback\"><pre>LogisticRegression(random_state=0)</pre><b>In a Jupyter environment, please rerun this cell to show the HTML representation or trust the notebook. <br />On GitHub, the HTML representation is unable to render, please try loading this page with nbviewer.org.</b></div><div class=\"sk-container\" hidden><div class=\"sk-item\"><div class=\"sk-estimator sk-toggleable\"><input class=\"sk-toggleable__control sk-hidden--visually\" id=\"sk-estimator-id-1\" type=\"checkbox\" checked><label for=\"sk-estimator-id-1\" class=\"sk-toggleable__label sk-toggleable__label-arrow\">LogisticRegression</label><div class=\"sk-toggleable__content\"><pre>LogisticRegression(random_state=0)</pre></div></div></div></div></div>"
            ]
          },
          "metadata": {},
          "execution_count": 9
        }
      ]
    },
    {
      "cell_type": "code",
      "source": [
        "y_pred = classifier.predict(X_test)\n",
        "print(np.concatenate((y_pred.reshape(len(y_pred),1), y_test.reshape(len(y_test),1)),1))"
      ],
      "metadata": {
        "colab": {
          "base_uri": "https://localhost:8080/"
        },
        "id": "sUgCYnCgIwvc",
        "outputId": "8ad0981e-907a-4208-9280-6a04f4022acc"
      },
      "execution_count": 10,
      "outputs": [
        {
          "output_type": "stream",
          "name": "stdout",
          "text": [
            "[[0 1]\n",
            " [0 0]\n",
            " [1 1]\n",
            " [0 0]\n",
            " [0 0]\n",
            " [1 1]\n",
            " [1 1]\n",
            " [0 0]\n",
            " [0 0]\n",
            " [0 0]\n",
            " [0 0]\n",
            " [0 0]\n",
            " [1 1]\n",
            " [0 0]\n",
            " [0 0]\n",
            " [0 0]\n",
            " [0 0]\n",
            " [1 1]\n",
            " [1 1]\n",
            " [0 0]\n",
            " [1 1]\n",
            " [0 0]\n",
            " [0 0]\n",
            " [0 0]\n",
            " [1 1]\n",
            " [0 0]\n",
            " [1 1]\n",
            " [0 0]\n",
            " [0 0]\n",
            " [0 0]\n",
            " [1 1]\n",
            " [1 1]\n",
            " [1 1]\n",
            " [0 0]\n",
            " [0 1]\n",
            " [0 0]\n",
            " [0 0]\n",
            " [1 1]\n",
            " [1 1]\n",
            " [0 0]\n",
            " [1 1]\n",
            " [0 0]\n",
            " [1 1]\n",
            " [0 0]\n",
            " [0 0]\n",
            " [0 0]\n",
            " [1 1]\n",
            " [0 0]\n",
            " [0 0]\n",
            " [0 0]]\n"
          ]
        }
      ]
    },
    {
      "cell_type": "code",
      "source": [
        "from sklearn.metrics import confusion_matrix, accuracy_score\n",
        "cm = confusion_matrix(y_test, y_pred)\n",
        "print(cm)\n",
        "accuracy_score(y_test, y_pred)"
      ],
      "metadata": {
        "colab": {
          "base_uri": "https://localhost:8080/"
        },
        "id": "EG6C5OfEI6X8",
        "outputId": "8623889e-e18f-4734-d6a1-45399a653032"
      },
      "execution_count": 11,
      "outputs": [
        {
          "output_type": "stream",
          "name": "stdout",
          "text": [
            "[[31  0]\n",
            " [ 2 17]]\n"
          ]
        },
        {
          "output_type": "execute_result",
          "data": {
            "text/plain": [
              "0.96"
            ]
          },
          "metadata": {},
          "execution_count": 11
        }
      ]
    }
  ]
}