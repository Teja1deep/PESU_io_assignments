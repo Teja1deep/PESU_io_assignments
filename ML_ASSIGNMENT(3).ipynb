{
  "nbformat": 4,
  "nbformat_minor": 0,
  "metadata": {
    "colab": {
      "provenance": [],
      "authorship_tag": "ABX9TyOVq7jCy1ktKuOhPoSJvs1T",
      "include_colab_link": true
    },
    "kernelspec": {
      "name": "python3",
      "display_name": "Python 3"
    },
    "language_info": {
      "name": "python"
    }
  },
  "cells": [
    {
      "cell_type": "markdown",
      "metadata": {
        "id": "view-in-github",
        "colab_type": "text"
      },
      "source": [
        "<a href=\"https://colab.research.google.com/github/Teja1deep/PESU_io_assignments/blob/main/ML_ASSIGNMENT(3).ipynb\" target=\"_parent\"><img src=\"https://colab.research.google.com/assets/colab-badge.svg\" alt=\"Open In Colab\"/></a>"
      ]
    },
    {
      "cell_type": "code",
      "execution_count": 1,
      "metadata": {
        "id": "PLsKlOD42R1r"
      },
      "outputs": [],
      "source": [
        "import numpy as np\n",
        "import pandas as pd\n",
        "import tensorflow as tf"
      ]
    },
    {
      "cell_type": "code",
      "source": [
        "tf.__version__"
      ],
      "metadata": {
        "colab": {
          "base_uri": "https://localhost:8080/",
          "height": 35
        },
        "id": "RmjNtJJC2e5H",
        "outputId": "dd82b841-9160-4dd8-cef4-6c3d426d36b8"
      },
      "execution_count": 2,
      "outputs": [
        {
          "output_type": "execute_result",
          "data": {
            "text/plain": [
              "'2.13.0'"
            ],
            "application/vnd.google.colaboratory.intrinsic+json": {
              "type": "string"
            }
          },
          "metadata": {},
          "execution_count": 2
        }
      ]
    },
    {
      "cell_type": "code",
      "source": [
        "dataset = pd.read_csv('/content/Social_Network_Ads.csv')\n",
        "X = dataset.iloc[:, :-1].values\n",
        "y = dataset.iloc[:, -1].values"
      ],
      "metadata": {
        "id": "p70paKfa2p5h"
      },
      "execution_count": 4,
      "outputs": []
    },
    {
      "cell_type": "code",
      "source": [
        "from sklearn.model_selection import train_test_split\n",
        "X_train, X_test, y_train, y_test = train_test_split(X, y, test_size = 0.2, random_state = 0)"
      ],
      "metadata": {
        "id": "6JXtRtxS3PyE"
      },
      "execution_count": 5,
      "outputs": []
    },
    {
      "cell_type": "code",
      "source": [
        "from sklearn.preprocessing import StandardScaler\n",
        "sc = StandardScaler()\n",
        "X_train = sc.fit_transform(X_train)\n",
        "X_test = sc.transform(X_test)"
      ],
      "metadata": {
        "id": "gqgOAZvY3aEr"
      },
      "execution_count": 6,
      "outputs": []
    },
    {
      "cell_type": "code",
      "source": [
        "ann = tf.keras.models.Sequential()"
      ],
      "metadata": {
        "id": "UUdieUig3ena"
      },
      "execution_count": 7,
      "outputs": []
    },
    {
      "cell_type": "code",
      "source": [
        "ann.add(tf.keras.layers.Dense(units=6, activation='relu'))"
      ],
      "metadata": {
        "id": "3NSzPdI33jcX"
      },
      "execution_count": 8,
      "outputs": []
    },
    {
      "cell_type": "code",
      "source": [
        "ann.add(tf.keras.layers.Dense(units=6, activation='relu'))"
      ],
      "metadata": {
        "id": "U5bENf6E3rxs"
      },
      "execution_count": 9,
      "outputs": []
    },
    {
      "cell_type": "code",
      "source": [
        "ann.add(tf.keras.layers.Dense(units=1, activation='sigmoid'))"
      ],
      "metadata": {
        "id": "V0HVNBBC3zSF"
      },
      "execution_count": 10,
      "outputs": []
    },
    {
      "cell_type": "code",
      "source": [
        "ann.compile(optimizer = 'adam', loss = 'binary_crossentropy', metrics = ['accuracy'])"
      ],
      "metadata": {
        "id": "Fra49GeO33Q8"
      },
      "execution_count": 11,
      "outputs": []
    },
    {
      "cell_type": "code",
      "source": [
        "ann.fit(X_train, y_train, batch_size = 32, epochs = 140)"
      ],
      "metadata": {
        "colab": {
          "base_uri": "https://localhost:8080/"
        },
        "id": "wz3N6Gho38Fa",
        "outputId": "2a8db916-0d63-4dcb-bcba-fed5e2036adc"
      },
      "execution_count": 24,
      "outputs": [
        {
          "output_type": "stream",
          "name": "stdout",
          "text": [
            "Epoch 1/140\n",
            "10/10 [==============================] - 0s 2ms/step - loss: 0.2286 - accuracy: 0.9125\n",
            "Epoch 2/140\n",
            "10/10 [==============================] - 0s 2ms/step - loss: 0.2283 - accuracy: 0.9125\n",
            "Epoch 3/140\n",
            "10/10 [==============================] - 0s 2ms/step - loss: 0.2288 - accuracy: 0.9125\n",
            "Epoch 4/140\n",
            "10/10 [==============================] - 0s 2ms/step - loss: 0.2291 - accuracy: 0.9125\n",
            "Epoch 5/140\n",
            "10/10 [==============================] - 0s 2ms/step - loss: 0.2285 - accuracy: 0.9125\n",
            "Epoch 6/140\n",
            "10/10 [==============================] - 0s 2ms/step - loss: 0.2283 - accuracy: 0.9125\n",
            "Epoch 7/140\n",
            "10/10 [==============================] - 0s 2ms/step - loss: 0.2284 - accuracy: 0.9125\n",
            "Epoch 8/140\n",
            "10/10 [==============================] - 0s 1ms/step - loss: 0.2283 - accuracy: 0.9125\n",
            "Epoch 9/140\n",
            "10/10 [==============================] - 0s 2ms/step - loss: 0.2283 - accuracy: 0.9125\n",
            "Epoch 10/140\n",
            "10/10 [==============================] - 0s 2ms/step - loss: 0.2282 - accuracy: 0.9125\n",
            "Epoch 11/140\n",
            "10/10 [==============================] - 0s 2ms/step - loss: 0.2283 - accuracy: 0.9125\n",
            "Epoch 12/140\n",
            "10/10 [==============================] - 0s 2ms/step - loss: 0.2282 - accuracy: 0.9125\n",
            "Epoch 13/140\n",
            "10/10 [==============================] - 0s 2ms/step - loss: 0.2284 - accuracy: 0.9125\n",
            "Epoch 14/140\n",
            "10/10 [==============================] - 0s 2ms/step - loss: 0.2282 - accuracy: 0.9125\n",
            "Epoch 15/140\n",
            "10/10 [==============================] - 0s 2ms/step - loss: 0.2281 - accuracy: 0.9125\n",
            "Epoch 16/140\n",
            "10/10 [==============================] - 0s 2ms/step - loss: 0.2281 - accuracy: 0.9125\n",
            "Epoch 17/140\n",
            "10/10 [==============================] - 0s 2ms/step - loss: 0.2281 - accuracy: 0.9125\n",
            "Epoch 18/140\n",
            "10/10 [==============================] - 0s 2ms/step - loss: 0.2284 - accuracy: 0.9125\n",
            "Epoch 19/140\n",
            "10/10 [==============================] - 0s 2ms/step - loss: 0.2281 - accuracy: 0.9125\n",
            "Epoch 20/140\n",
            "10/10 [==============================] - 0s 2ms/step - loss: 0.2284 - accuracy: 0.9125\n",
            "Epoch 21/140\n",
            "10/10 [==============================] - 0s 2ms/step - loss: 0.2280 - accuracy: 0.9125\n",
            "Epoch 22/140\n",
            "10/10 [==============================] - 0s 2ms/step - loss: 0.2280 - accuracy: 0.9125\n",
            "Epoch 23/140\n",
            "10/10 [==============================] - 0s 2ms/step - loss: 0.2279 - accuracy: 0.9125\n",
            "Epoch 24/140\n",
            "10/10 [==============================] - 0s 2ms/step - loss: 0.2279 - accuracy: 0.9125\n",
            "Epoch 25/140\n",
            "10/10 [==============================] - 0s 2ms/step - loss: 0.2279 - accuracy: 0.9125\n",
            "Epoch 26/140\n",
            "10/10 [==============================] - 0s 2ms/step - loss: 0.2280 - accuracy: 0.9125\n",
            "Epoch 27/140\n",
            "10/10 [==============================] - 0s 2ms/step - loss: 0.2278 - accuracy: 0.9125\n",
            "Epoch 28/140\n",
            "10/10 [==============================] - 0s 2ms/step - loss: 0.2279 - accuracy: 0.9125\n",
            "Epoch 29/140\n",
            "10/10 [==============================] - 0s 2ms/step - loss: 0.2280 - accuracy: 0.9125\n",
            "Epoch 30/140\n",
            "10/10 [==============================] - 0s 2ms/step - loss: 0.2277 - accuracy: 0.9125\n",
            "Epoch 31/140\n",
            "10/10 [==============================] - 0s 2ms/step - loss: 0.2280 - accuracy: 0.9125\n",
            "Epoch 32/140\n",
            "10/10 [==============================] - 0s 2ms/step - loss: 0.2278 - accuracy: 0.9125\n",
            "Epoch 33/140\n",
            "10/10 [==============================] - 0s 3ms/step - loss: 0.2279 - accuracy: 0.9125\n",
            "Epoch 34/140\n",
            "10/10 [==============================] - 0s 2ms/step - loss: 0.2279 - accuracy: 0.9125\n",
            "Epoch 35/140\n",
            "10/10 [==============================] - 0s 2ms/step - loss: 0.2279 - accuracy: 0.9125\n",
            "Epoch 36/140\n",
            "10/10 [==============================] - 0s 2ms/step - loss: 0.2277 - accuracy: 0.9125\n",
            "Epoch 37/140\n",
            "10/10 [==============================] - 0s 2ms/step - loss: 0.2279 - accuracy: 0.9125\n",
            "Epoch 38/140\n",
            "10/10 [==============================] - 0s 2ms/step - loss: 0.2277 - accuracy: 0.9125\n",
            "Epoch 39/140\n",
            "10/10 [==============================] - 0s 2ms/step - loss: 0.2278 - accuracy: 0.9125\n",
            "Epoch 40/140\n",
            "10/10 [==============================] - 0s 2ms/step - loss: 0.2277 - accuracy: 0.9125\n",
            "Epoch 41/140\n",
            "10/10 [==============================] - 0s 2ms/step - loss: 0.2277 - accuracy: 0.9125\n",
            "Epoch 42/140\n",
            "10/10 [==============================] - 0s 2ms/step - loss: 0.2277 - accuracy: 0.9125\n",
            "Epoch 43/140\n",
            "10/10 [==============================] - 0s 2ms/step - loss: 0.2276 - accuracy: 0.9125\n",
            "Epoch 44/140\n",
            "10/10 [==============================] - 0s 2ms/step - loss: 0.2276 - accuracy: 0.9125\n",
            "Epoch 45/140\n",
            "10/10 [==============================] - 0s 2ms/step - loss: 0.2280 - accuracy: 0.9125\n",
            "Epoch 46/140\n",
            "10/10 [==============================] - 0s 3ms/step - loss: 0.2275 - accuracy: 0.9125\n",
            "Epoch 47/140\n",
            "10/10 [==============================] - 0s 2ms/step - loss: 0.2275 - accuracy: 0.9125\n",
            "Epoch 48/140\n",
            "10/10 [==============================] - 0s 2ms/step - loss: 0.2279 - accuracy: 0.9125\n",
            "Epoch 49/140\n",
            "10/10 [==============================] - 0s 2ms/step - loss: 0.2276 - accuracy: 0.9125\n",
            "Epoch 50/140\n",
            "10/10 [==============================] - 0s 2ms/step - loss: 0.2274 - accuracy: 0.9125\n",
            "Epoch 51/140\n",
            "10/10 [==============================] - 0s 2ms/step - loss: 0.2274 - accuracy: 0.9125\n",
            "Epoch 52/140\n",
            "10/10 [==============================] - 0s 2ms/step - loss: 0.2279 - accuracy: 0.9125\n",
            "Epoch 53/140\n",
            "10/10 [==============================] - 0s 2ms/step - loss: 0.2274 - accuracy: 0.9125\n",
            "Epoch 54/140\n",
            "10/10 [==============================] - 0s 2ms/step - loss: 0.2276 - accuracy: 0.9125\n",
            "Epoch 55/140\n",
            "10/10 [==============================] - 0s 2ms/step - loss: 0.2276 - accuracy: 0.9125\n",
            "Epoch 56/140\n",
            "10/10 [==============================] - 0s 2ms/step - loss: 0.2276 - accuracy: 0.9125\n",
            "Epoch 57/140\n",
            "10/10 [==============================] - 0s 2ms/step - loss: 0.2275 - accuracy: 0.9125\n",
            "Epoch 58/140\n",
            "10/10 [==============================] - 0s 2ms/step - loss: 0.2275 - accuracy: 0.9125\n",
            "Epoch 59/140\n",
            "10/10 [==============================] - 0s 2ms/step - loss: 0.2275 - accuracy: 0.9125\n",
            "Epoch 60/140\n",
            "10/10 [==============================] - 0s 2ms/step - loss: 0.2273 - accuracy: 0.9125\n",
            "Epoch 61/140\n",
            "10/10 [==============================] - 0s 2ms/step - loss: 0.2272 - accuracy: 0.9125\n",
            "Epoch 62/140\n",
            "10/10 [==============================] - 0s 2ms/step - loss: 0.2274 - accuracy: 0.9125\n",
            "Epoch 63/140\n",
            "10/10 [==============================] - 0s 2ms/step - loss: 0.2273 - accuracy: 0.9125\n",
            "Epoch 64/140\n",
            "10/10 [==============================] - 0s 2ms/step - loss: 0.2273 - accuracy: 0.9125\n",
            "Epoch 65/140\n",
            "10/10 [==============================] - 0s 2ms/step - loss: 0.2274 - accuracy: 0.9125\n",
            "Epoch 66/140\n",
            "10/10 [==============================] - 0s 2ms/step - loss: 0.2272 - accuracy: 0.9125\n",
            "Epoch 67/140\n",
            "10/10 [==============================] - 0s 2ms/step - loss: 0.2272 - accuracy: 0.9125\n",
            "Epoch 68/140\n",
            "10/10 [==============================] - 0s 2ms/step - loss: 0.2271 - accuracy: 0.9125\n",
            "Epoch 69/140\n",
            "10/10 [==============================] - 0s 2ms/step - loss: 0.2272 - accuracy: 0.9125\n",
            "Epoch 70/140\n",
            "10/10 [==============================] - 0s 2ms/step - loss: 0.2271 - accuracy: 0.9125\n",
            "Epoch 71/140\n",
            "10/10 [==============================] - 0s 2ms/step - loss: 0.2273 - accuracy: 0.9125\n",
            "Epoch 72/140\n",
            "10/10 [==============================] - 0s 3ms/step - loss: 0.2271 - accuracy: 0.9125\n",
            "Epoch 73/140\n",
            "10/10 [==============================] - 0s 2ms/step - loss: 0.2273 - accuracy: 0.9125\n",
            "Epoch 74/140\n",
            "10/10 [==============================] - 0s 2ms/step - loss: 0.2271 - accuracy: 0.9125\n",
            "Epoch 75/140\n",
            "10/10 [==============================] - 0s 2ms/step - loss: 0.2271 - accuracy: 0.9125\n",
            "Epoch 76/140\n",
            "10/10 [==============================] - 0s 2ms/step - loss: 0.2270 - accuracy: 0.9125\n",
            "Epoch 77/140\n",
            "10/10 [==============================] - 0s 2ms/step - loss: 0.2270 - accuracy: 0.9125\n",
            "Epoch 78/140\n",
            "10/10 [==============================] - 0s 2ms/step - loss: 0.2273 - accuracy: 0.9125\n",
            "Epoch 79/140\n",
            "10/10 [==============================] - 0s 2ms/step - loss: 0.2273 - accuracy: 0.9125\n",
            "Epoch 80/140\n",
            "10/10 [==============================] - 0s 2ms/step - loss: 0.2270 - accuracy: 0.9125\n",
            "Epoch 81/140\n",
            "10/10 [==============================] - 0s 2ms/step - loss: 0.2270 - accuracy: 0.9125\n",
            "Epoch 82/140\n",
            "10/10 [==============================] - 0s 2ms/step - loss: 0.2270 - accuracy: 0.9125\n",
            "Epoch 83/140\n",
            "10/10 [==============================] - 0s 2ms/step - loss: 0.2269 - accuracy: 0.9125\n",
            "Epoch 84/140\n",
            "10/10 [==============================] - 0s 2ms/step - loss: 0.2270 - accuracy: 0.9125\n",
            "Epoch 85/140\n",
            "10/10 [==============================] - 0s 2ms/step - loss: 0.2270 - accuracy: 0.9125\n",
            "Epoch 86/140\n",
            "10/10 [==============================] - 0s 1ms/step - loss: 0.2271 - accuracy: 0.9125\n",
            "Epoch 87/140\n",
            "10/10 [==============================] - 0s 2ms/step - loss: 0.2270 - accuracy: 0.9125\n",
            "Epoch 88/140\n",
            "10/10 [==============================] - 0s 2ms/step - loss: 0.2270 - accuracy: 0.9125\n",
            "Epoch 89/140\n",
            "10/10 [==============================] - 0s 2ms/step - loss: 0.2270 - accuracy: 0.9125\n",
            "Epoch 90/140\n",
            "10/10 [==============================] - 0s 2ms/step - loss: 0.2270 - accuracy: 0.9125\n",
            "Epoch 91/140\n",
            "10/10 [==============================] - 0s 2ms/step - loss: 0.2270 - accuracy: 0.9125\n",
            "Epoch 92/140\n",
            "10/10 [==============================] - 0s 2ms/step - loss: 0.2267 - accuracy: 0.9125\n",
            "Epoch 93/140\n",
            "10/10 [==============================] - 0s 2ms/step - loss: 0.2267 - accuracy: 0.9125\n",
            "Epoch 94/140\n",
            "10/10 [==============================] - 0s 2ms/step - loss: 0.2270 - accuracy: 0.9125\n",
            "Epoch 95/140\n",
            "10/10 [==============================] - 0s 2ms/step - loss: 0.2269 - accuracy: 0.9125\n",
            "Epoch 96/140\n",
            "10/10 [==============================] - 0s 2ms/step - loss: 0.2268 - accuracy: 0.9125\n",
            "Epoch 97/140\n",
            "10/10 [==============================] - 0s 2ms/step - loss: 0.2268 - accuracy: 0.9125\n",
            "Epoch 98/140\n",
            "10/10 [==============================] - 0s 2ms/step - loss: 0.2268 - accuracy: 0.9125\n",
            "Epoch 99/140\n",
            "10/10 [==============================] - 0s 2ms/step - loss: 0.2268 - accuracy: 0.9125\n",
            "Epoch 100/140\n",
            "10/10 [==============================] - 0s 2ms/step - loss: 0.2267 - accuracy: 0.9125\n",
            "Epoch 101/140\n",
            "10/10 [==============================] - 0s 2ms/step - loss: 0.2267 - accuracy: 0.9125\n",
            "Epoch 102/140\n",
            "10/10 [==============================] - 0s 2ms/step - loss: 0.2267 - accuracy: 0.9125\n",
            "Epoch 103/140\n",
            "10/10 [==============================] - 0s 3ms/step - loss: 0.2268 - accuracy: 0.9125\n",
            "Epoch 104/140\n",
            "10/10 [==============================] - 0s 2ms/step - loss: 0.2266 - accuracy: 0.9125\n",
            "Epoch 105/140\n",
            "10/10 [==============================] - 0s 2ms/step - loss: 0.2266 - accuracy: 0.9125\n",
            "Epoch 106/140\n",
            "10/10 [==============================] - 0s 2ms/step - loss: 0.2266 - accuracy: 0.9125\n",
            "Epoch 107/140\n",
            "10/10 [==============================] - 0s 2ms/step - loss: 0.2265 - accuracy: 0.9125\n",
            "Epoch 108/140\n",
            "10/10 [==============================] - 0s 2ms/step - loss: 0.2266 - accuracy: 0.9125\n",
            "Epoch 109/140\n",
            "10/10 [==============================] - 0s 2ms/step - loss: 0.2267 - accuracy: 0.9125\n",
            "Epoch 110/140\n",
            "10/10 [==============================] - 0s 2ms/step - loss: 0.2267 - accuracy: 0.9125\n",
            "Epoch 111/140\n",
            "10/10 [==============================] - 0s 2ms/step - loss: 0.2266 - accuracy: 0.9125\n",
            "Epoch 112/140\n",
            "10/10 [==============================] - 0s 2ms/step - loss: 0.2265 - accuracy: 0.9125\n",
            "Epoch 113/140\n",
            "10/10 [==============================] - 0s 2ms/step - loss: 0.2265 - accuracy: 0.9125\n",
            "Epoch 114/140\n",
            "10/10 [==============================] - 0s 2ms/step - loss: 0.2265 - accuracy: 0.9125\n",
            "Epoch 115/140\n",
            "10/10 [==============================] - 0s 2ms/step - loss: 0.2266 - accuracy: 0.9125\n",
            "Epoch 116/140\n",
            "10/10 [==============================] - 0s 2ms/step - loss: 0.2265 - accuracy: 0.9125\n",
            "Epoch 117/140\n",
            "10/10 [==============================] - 0s 2ms/step - loss: 0.2263 - accuracy: 0.9125\n",
            "Epoch 118/140\n",
            "10/10 [==============================] - 0s 2ms/step - loss: 0.2264 - accuracy: 0.9125\n",
            "Epoch 119/140\n",
            "10/10 [==============================] - 0s 2ms/step - loss: 0.2266 - accuracy: 0.9125\n",
            "Epoch 120/140\n",
            "10/10 [==============================] - 0s 2ms/step - loss: 0.2265 - accuracy: 0.9125\n",
            "Epoch 121/140\n",
            "10/10 [==============================] - 0s 2ms/step - loss: 0.2263 - accuracy: 0.9125\n",
            "Epoch 122/140\n",
            "10/10 [==============================] - 0s 3ms/step - loss: 0.2266 - accuracy: 0.9125\n",
            "Epoch 123/140\n",
            "10/10 [==============================] - 0s 2ms/step - loss: 0.2264 - accuracy: 0.9125\n",
            "Epoch 124/140\n",
            "10/10 [==============================] - 0s 2ms/step - loss: 0.2264 - accuracy: 0.9125\n",
            "Epoch 125/140\n",
            "10/10 [==============================] - 0s 2ms/step - loss: 0.2263 - accuracy: 0.9125\n",
            "Epoch 126/140\n",
            "10/10 [==============================] - 0s 2ms/step - loss: 0.2263 - accuracy: 0.9125\n",
            "Epoch 127/140\n",
            "10/10 [==============================] - 0s 2ms/step - loss: 0.2262 - accuracy: 0.9125\n",
            "Epoch 128/140\n",
            "10/10 [==============================] - 0s 2ms/step - loss: 0.2264 - accuracy: 0.9125\n",
            "Epoch 129/140\n",
            "10/10 [==============================] - 0s 2ms/step - loss: 0.2262 - accuracy: 0.9125\n",
            "Epoch 130/140\n",
            "10/10 [==============================] - 0s 2ms/step - loss: 0.2265 - accuracy: 0.9125\n",
            "Epoch 131/140\n",
            "10/10 [==============================] - 0s 2ms/step - loss: 0.2266 - accuracy: 0.9125\n",
            "Epoch 132/140\n",
            "10/10 [==============================] - 0s 2ms/step - loss: 0.2263 - accuracy: 0.9125\n",
            "Epoch 133/140\n",
            "10/10 [==============================] - 0s 2ms/step - loss: 0.2263 - accuracy: 0.9125\n",
            "Epoch 134/140\n",
            "10/10 [==============================] - 0s 2ms/step - loss: 0.2262 - accuracy: 0.9125\n",
            "Epoch 135/140\n",
            "10/10 [==============================] - 0s 2ms/step - loss: 0.2262 - accuracy: 0.9125\n",
            "Epoch 136/140\n",
            "10/10 [==============================] - 0s 2ms/step - loss: 0.2261 - accuracy: 0.9125\n",
            "Epoch 137/140\n",
            "10/10 [==============================] - 0s 2ms/step - loss: 0.2262 - accuracy: 0.9125\n",
            "Epoch 138/140\n",
            "10/10 [==============================] - 0s 2ms/step - loss: 0.2261 - accuracy: 0.9125\n",
            "Epoch 139/140\n",
            "10/10 [==============================] - 0s 2ms/step - loss: 0.2261 - accuracy: 0.9125\n",
            "Epoch 140/140\n",
            "10/10 [==============================] - 0s 2ms/step - loss: 0.2261 - accuracy: 0.9125\n"
          ]
        },
        {
          "output_type": "execute_result",
          "data": {
            "text/plain": [
              "<keras.src.callbacks.History at 0x7db1c6739600>"
            ]
          },
          "metadata": {},
          "execution_count": 24
        }
      ]
    },
    {
      "cell_type": "code",
      "source": [
        "print(ann.predict(sc.transform([[30,100000]])) > 0.5)"
      ],
      "metadata": {
        "colab": {
          "base_uri": "https://localhost:8080/"
        },
        "id": "73StuAi44clg",
        "outputId": "a42f2cf6-2131-4d8f-aef4-e44e6b7abaa1"
      },
      "execution_count": 25,
      "outputs": [
        {
          "output_type": "stream",
          "name": "stdout",
          "text": [
            "1/1 [==============================] - 0s 20ms/step\n",
            "[[ True]]\n"
          ]
        }
      ]
    },
    {
      "cell_type": "code",
      "source": [
        "y_pred = ann.predict(X_test)\n",
        "y_pred = (y_pred > 0.5)\n",
        "print(np.concatenate((y_pred.reshape(len(y_pred),1), y_test.reshape(len(y_test),1)),1))"
      ],
      "metadata": {
        "colab": {
          "base_uri": "https://localhost:8080/"
        },
        "id": "rBaL5Ijv6Blx",
        "outputId": "35443a0c-7847-4816-93a6-171c897ef947"
      },
      "execution_count": 26,
      "outputs": [
        {
          "output_type": "stream",
          "name": "stdout",
          "text": [
            "3/3 [==============================] - 0s 2ms/step\n",
            "[[0 0]\n",
            " [0 0]\n",
            " [0 0]\n",
            " [0 0]\n",
            " [0 0]\n",
            " [0 0]\n",
            " [0 0]\n",
            " [1 1]\n",
            " [0 0]\n",
            " [1 0]\n",
            " [0 0]\n",
            " [0 0]\n",
            " [0 0]\n",
            " [0 0]\n",
            " [0 0]\n",
            " [1 0]\n",
            " [0 0]\n",
            " [0 0]\n",
            " [1 1]\n",
            " [0 0]\n",
            " [0 0]\n",
            " [1 1]\n",
            " [0 0]\n",
            " [1 1]\n",
            " [0 0]\n",
            " [1 1]\n",
            " [0 0]\n",
            " [0 0]\n",
            " [0 0]\n",
            " [0 0]\n",
            " [0 0]\n",
            " [0 1]\n",
            " [1 1]\n",
            " [0 0]\n",
            " [0 0]\n",
            " [0 0]\n",
            " [0 0]\n",
            " [0 0]\n",
            " [0 0]\n",
            " [1 1]\n",
            " [0 0]\n",
            " [0 0]\n",
            " [0 0]\n",
            " [0 0]\n",
            " [1 1]\n",
            " [0 0]\n",
            " [0 0]\n",
            " [1 1]\n",
            " [0 0]\n",
            " [1 1]\n",
            " [1 1]\n",
            " [0 0]\n",
            " [0 0]\n",
            " [1 0]\n",
            " [1 1]\n",
            " [1 1]\n",
            " [0 0]\n",
            " [0 0]\n",
            " [1 1]\n",
            " [0 0]\n",
            " [0 0]\n",
            " [1 1]\n",
            " [0 0]\n",
            " [1 1]\n",
            " [0 0]\n",
            " [1 1]\n",
            " [0 0]\n",
            " [0 0]\n",
            " [0 0]\n",
            " [0 0]\n",
            " [1 1]\n",
            " [0 0]\n",
            " [0 0]\n",
            " [1 1]\n",
            " [0 0]\n",
            " [0 0]\n",
            " [0 0]\n",
            " [0 0]\n",
            " [1 1]\n",
            " [1 1]]\n"
          ]
        }
      ]
    },
    {
      "cell_type": "code",
      "source": [
        "from sklearn.metrics import confusion_matrix, accuracy_score\n",
        "cm = confusion_matrix(y_test, y_pred)\n",
        "print(cm)\n",
        "accuracy_score(y_test, y_pred)"
      ],
      "metadata": {
        "colab": {
          "base_uri": "https://localhost:8080/"
        },
        "id": "czOuM_ah6OdE",
        "outputId": "cce7b644-83ac-4e17-c468-c38f299d21f1"
      },
      "execution_count": 27,
      "outputs": [
        {
          "output_type": "stream",
          "name": "stdout",
          "text": [
            "[[55  3]\n",
            " [ 1 21]]\n"
          ]
        },
        {
          "output_type": "execute_result",
          "data": {
            "text/plain": [
              "0.95"
            ]
          },
          "metadata": {},
          "execution_count": 27
        }
      ]
    }
  ]
}